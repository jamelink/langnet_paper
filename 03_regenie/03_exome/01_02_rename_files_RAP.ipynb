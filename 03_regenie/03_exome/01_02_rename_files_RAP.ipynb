{
 "cells": [
  {
   "cell_type": "code",
   "execution_count": 2,
   "id": "2a4ff597-1c7e-458d-8bca-7384bf5bb90d",
   "metadata": {},
   "outputs": [],
   "source": [
    "#change path in predictions list\n",
    "import pandas as pd\n",
    "from os import rename\n",
    "\n",
    "#rename file\n",
    "pred_list = \"/data/clusterfs/lag/users/jitame/SENT_CORE/geno/regenie/exome/st1_out/reg_st1_exome_pred.list\"\n",
    "pred_list_old = \"/data/clusterfs/lag/users/jitame/SENT_CORE/geno/regenie/exome/st1_out/reg_st1_exome_pred_old.list\"\n",
    "rename(pred_list, pred_list_old)\n",
    "\n",
    "#edit path file\n",
    "df = pd.read_csv(pred_list_old, delimiter=\" \", header=None)\n",
    "df.iloc[:,1] = [x.replace(\"/data/clusterfs/lag/users/jitame/SENT_CORE/geno/regenie//exome/st1_out/\", \"/input_files/\") for x in df.iloc[:,1]]\n",
    "df.to_csv(pred_list, header=False, index=False, sep=\" \")"
   ]
  },
  {
   "cell_type": "code",
   "execution_count": null,
   "id": "a770955c-2df7-4462-9c41-1420bb44c1b9",
   "metadata": {},
   "outputs": [],
   "source": []
  }
 ],
 "metadata": {
  "kernelspec": {
   "display_name": "Python [conda env:jitame-std_work_env]",
   "language": "python",
   "name": "conda-env-jitame-std_work_env-py"
  },
  "language_info": {
   "codemirror_mode": {
    "name": "ipython",
    "version": 3
   },
   "file_extension": ".py",
   "mimetype": "text/x-python",
   "name": "python",
   "nbconvert_exporter": "python",
   "pygments_lexer": "ipython3",
   "version": "3.9.7"
  }
 },
 "nbformat": 4,
 "nbformat_minor": 5
}
