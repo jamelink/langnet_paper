{
 "cells": [
  {
   "cell_type": "code",
   "execution_count": 46,
   "id": "fc559a86-7859-47f4-8fe9-25251c3d50a7",
   "metadata": {},
   "outputs": [],
   "source": [
    "import pandas as pd\n",
    "import os\n",
    "\n",
    "in_path=\"/data/workspaces/lag/workspaces/lg-ukbiobank/projects/rest-multimodal/wes/genotype_variant_filtering/\"\n",
    "\n",
    "def read_stats(fn):\n",
    "    column_names = [\"chr\",\n",
    "                \"block\",\n",
    "                \"total_all\",\n",
    "                \"total_target_regions\",\n",
    "                \"monoallelic\",\n",
    "                \"variants_pre\",\n",
    "                \"avg_gq\",\n",
    "                \"missing\",\n",
    "                \"mac\",\n",
    "                \"ab\",\n",
    "                \"total_removed\",\n",
    "                \"total_remaining\",\n",
    "                \"ts_pre\",\n",
    "                \"tv_pre\",\n",
    "                \"ts_tv_ratio_pre\",\n",
    "                \"ts_post\",\n",
    "                \"tv_post\",\n",
    "                \"ts_tv_ratio_post\",\n",
    "                \"multiallelic_removed\"\n",
    "               ]\n",
    "    return pd.read_csv(fn, sep=\"\\t\", header=None, names=column_names)\n",
    "\n",
    "def read_all(file_list, column_names):\n",
    "    return pd.concat(map(read_stats, file_list))\n",
    "\n",
    "chrom_list = [str(i) for i in range(1,23, 1)] + [\"X\"]\n",
    "\n",
    "file_list = [os.path.join(in_path,\"c{}\".format(chrom), \"c{}_overview_filtering_statistics_per_block.txt\".format(chrom)) for chrom in chrom_list]\n",
    "\n",
    "wes_stats = read_all(file_list, column_names)\n",
    "\n",
    "\n",
    "#TO DO: ADD MAP FUNCTION AND FOR LOOP FOR ALL CHROMOSOMES\n",
    "#chrom2 = pd.read_csv(os.path.join(in_path,\"c2\", \"c2_overview_filtering_statistics_per_block.txt\"), sep=\"\\t\", header=None, names=column_names)\n",
    "#chrom21 = pd.read_csv(os.path.join(in_path,\"c21\", \"c21_overview_filtering_statistics_per_block.txt\"), sep=\"\\t\", header=None, names=column_names)"
   ]
  },
  {
   "cell_type": "code",
   "execution_count": 47,
   "id": "e2a23a79-907d-4ae8-9944-0a8b15e0f247",
   "metadata": {},
   "outputs": [
    {
     "name": "stdout",
     "output_type": "stream",
     "text": [
      "All blocks pass QC\n"
     ]
    }
   ],
   "source": [
    "def auto_QC(df):\n",
    "    \"\"\"\n",
    "    Automated QC for success of variant filtering\n",
    "    1. check if variants prefiltering are correct (no truncated files)\n",
    "    2. check if removed and remaining variants are correct (no trunctated files)\n",
    "    3. check if Ts/Tv ratio went up after filtering\n",
    "    \n",
    "    Returns:\n",
    "    dataframe with QC columns\n",
    "    \"\"\"\n",
    "    \n",
    "    df[\"delta_variant_pre\"] = df[\"total_target_regions\"] - df[\"monoallelic\"] - df[\"variants_pre\"]\n",
    "    df[\"delta_filter\"] = df[\"variants_pre\"] - df[\"total_removed\"] - df[\"total_remaining\"]\n",
    "    df[\"delta_ts_tv\"] = df[\"ts_tv_ratio_post\"] - df[\"ts_tv_ratio_pre\"]\n",
    "    \n",
    "    df[\"QC_pass\"] = True\n",
    "    df.loc[df[\"delta_variant_pre\"] != 0, \"QC_pass\"] = False\n",
    "    df.loc[df[\"delta_filter\"] != 0, \"QC_pass\"] = False\n",
    "    df.loc[df[\"delta_ts_tv\"] < 0, \"QC_pass\"] = False\n",
    "    \n",
    "    if df[\"QC_pass\"].all():\n",
    "        print(\"All blocks pass QC\")\n",
    "    else:\n",
    "        print(\"WARNING: THESE BLOCKS DO NOT PASS QC\")\n",
    "        print(df[~df[\"QC_pass\"]])\n",
    "    \n",
    "    return df\n",
    "\n",
    "wes_stats = auto_QC(wes_stats)"
   ]
  }
 ],
 "metadata": {
  "kernelspec": {
   "display_name": "Python [conda env:jitame-std_work_env]",
   "language": "python",
   "name": "conda-env-jitame-std_work_env-py"
  },
  "language_info": {
   "codemirror_mode": {
    "name": "ipython",
    "version": 3
   },
   "file_extension": ".py",
   "mimetype": "text/x-python",
   "name": "python",
   "nbconvert_exporter": "python",
   "pygments_lexer": "ipython3",
   "version": "3.9.7"
  }
 },
 "nbformat": 4,
 "nbformat_minor": 5
}
