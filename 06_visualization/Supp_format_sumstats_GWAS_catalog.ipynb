{
 "cells": [
  {
   "cell_type": "code",
   "execution_count": 1,
   "id": "bb1609bc-a5cb-48c5-a08e-874ef9868b0b",
   "metadata": {},
   "outputs": [],
   "source": [
    "import os\n",
    "import pandas as pd\n",
    "import glob\n",
    "\n",
    "results_path = \"/data/workspaces/lag/workspaces/lg-ukbiobank/projects/rest-multimodal/results/\""
   ]
  },
  {
   "cell_type": "code",
   "execution_count": 2,
   "id": "d6287820-8fb9-441b-8711-473a89f2d816",
   "metadata": {},
   "outputs": [],
   "source": [
    "def snp_id(data):\n",
    "    data.insert(\n",
    "        loc=0,\n",
    "        column=\"SNP_ID\",\n",
    "        value=data[\"CHR\"].astype(str).str.cat(data[\"BP\"].astype(str), sep=\":\").str.cat(data[\"A2\"], sep=\"_\").str.cat(data[\"A1\"], sep=\"_\"))\n",
    "    return data\n",
    "\n",
    "def add_beta_standard_error(data):\n",
    "    data[\"beta\"] = [\"NA\"]*len(data)\n",
    "    data[\"standard_error\"] = [\"NA\"]*len(data)\n",
    "    return data\n",
    "\n",
    "def load_MOSTEST_sumstats(fn, out_fn=None):\n",
    "    \n",
    "    data = pd.read_csv(fn, sep=\"\\t\", compression=\"gzip\", engine=\"pyarrow\")\n",
    "    \n",
    "    data = data[data[\"CHR\"]!=\"CHR\"]\n",
    "    \n",
    "    data[\"BP\"] = data[\"BP\"].astype(\"int64\")\n",
    "    data[\"PVAL\"] = data[\"PVAL\"].astype(\"float64\")\n",
    "    data[\"Z\"] = data[\"Z\"].astype(\"float32\")\n",
    "    data[\"N\"] = data[\"N\"].astype(\"float32\")\n",
    "    \n",
    "    data.sort_values(by=[\"CHR\", \"BP\"], inplace=True)\n",
    "    \n",
    "    data.reset_index(drop=True, inplace=True)\n",
    "    \n",
    "    data = snp_id(data)\n",
    "    \n",
    "    data = add_beta_standard_error(data)\n",
    "    \n",
    "    #data.set_index(\"SNP_ID\", inplace=True)\n",
    "\n",
    "    if out_fn is not None:\n",
    "        data.to_csv(out_fn, sep=\"\\t\", compression=\"gzip\")\n",
    "    \n",
    "    return data\n",
    "\n",
    "def load_snp_data(fn):\n",
    "    return pd.read_csv(fn, sep=\"\\t\", engine=\"pyarrow\")\n",
    "\n",
    "def data_loader_snpstats(fn_all):\n",
    "    file_list = sorted(glob.glob(os.path.join(fn_all)))\n",
    "    \n",
    "    data = pd.concat(map(load_snp_data, file_list), join=\"inner\", axis=0)\n",
    "    \n",
    "    data.convert_dtypes()\n",
    "    \n",
    "    #data.set_index(\"SNP_ID\", inplace=True)\n",
    "    \n",
    "    return data\n",
    "\n",
    "def format_GWAS_cat(data, out_fn):\n",
    "    rename_dict = { \"SNP_ID\":\"variant_id\",\n",
    "                    \"CHR_x\":\"chromosome\",\n",
    "                    \"BP\":\"base_pair_location\",\n",
    "                    \"PVAL\":\"p_value\",\n",
    "                    \"A1\":\"effect_allele\",\n",
    "                    \"A2\":\"other_allele\",\n",
    "                    \"minor_allele_frequency.subset.QCtool\":\"effect_allele_frequency\",\n",
    "                    \"SNP\":\"rs_id\",\n",
    "                    \"info.subset.QCtool\":\"info\",\n",
    "                    \"N\":\"n\"}\n",
    "    data.rename(columns=rename_dict, inplace = True)\n",
    "    \n",
    "    data[\"n\"] = data[\"n\"].astype(\"int64\")\n",
    "    \n",
    "    data.loc[data[\"chromosome\"] == \"X\", \"chromosome\" ] = 23\n",
    "    data.loc[data[\"chromosome\"] == \"XY\", \"chromosome\" ] = 23\n",
    "    data[\"chromosome\"] = data[\"chromosome\"].astype(\"int32\")\n",
    "    \n",
    "    data[\"variant_id\"] = [x.replace(\":\",\"_\").replace(\"XY\",\"23\").replace(\"X\", \"23\") for x in data[\"variant_id\"] ]\n",
    "    \n",
    "    data[[\"chromosome\", \"base_pair_location\", \"effect_allele\", \"other_allele\", \"beta\", \"standard_error\", \"effect_allele_frequency\", \"p_value\", \"variant_id\", \"rs_id\", \"info\", \"n\"]].to_csv(out_fn, sep=\"\\t\", index=False)\n",
    "    return data\n"
   ]
  },
  {
   "cell_type": "code",
   "execution_count": 3,
   "id": "c4f718e3-f711-4176-9019-bf48ce365119",
   "metadata": {},
   "outputs": [],
   "source": [
    "#load data\n",
    "mvgwas_lang = load_MOSTEST_sumstats(os.path.join(results_path, \"sumstats\", \"edges.sumstats.gz\"))\n",
    "mvgwas_asym = load_MOSTEST_sumstats(os.path.join(results_path, \"sumstats\", \"edges_asym.sumstats.gz\"))\n",
    "\n",
    "fn_all = \"/data/clusterfs/lag/users/jitame/SENT_CORE/geno/regenie/gwas/st2_in/filtered/filter_var/subsetting_reg_st2_GWAS_chr*.snpstats_mfi_hrc.snps2keep\"\n",
    "snp_stats = data_loader_snpstats(fn_all)"
   ]
  },
  {
   "cell_type": "code",
   "execution_count": 4,
   "id": "dda06cb9-1617-442e-8d3d-b55bf2ee3018",
   "metadata": {},
   "outputs": [],
   "source": [
    "mvgwas_lang = mvgwas_lang.merge(snp_stats, on=\"SNP_ID\", how=\"left\")\n",
    "mvgwas_asym = mvgwas_asym.merge(snp_stats, on=\"SNP_ID\", how=\"left\")"
   ]
  },
  {
   "cell_type": "code",
   "execution_count": 5,
   "id": "2d10cf35-a059-4e1a-b0f7-1cf9b599ccfa",
   "metadata": {},
   "outputs": [],
   "source": [
    "mvgwas_lang = format_GWAS_cat(mvgwas_lang,\n",
    "                                  out_fn=os.path.join(results_path, \"sumstats_globus\", \"language_network_mv_sumstats.tsv\"))\n",
    "mvgwas_asym = format_GWAS_cat(mvgwas_asym,\n",
    "                                  out_fn=os.path.join(results_path, \"sumstats_globus\", \"hemispheric_differences_mv_sumstats.tsv\"))"
   ]
  },
  {
   "cell_type": "code",
   "execution_count": 6,
   "id": "713cd021-5d4d-4bdc-a48b-fea00555fbd2",
   "metadata": {},
   "outputs": [],
   "source": [
    "#mvgwas_lang[[\"chromosome\", \"base_pair_location\", \"effect_allele\", \"other_allele\", \"effect_allele_frequency\", \"p_value\", \"variant_id\", \"rs_id\", \"info\", \"n\"]].head()"
   ]
  }
 ],
 "metadata": {
  "kernelspec": {
   "display_name": "Python [conda env:results_env]",
   "language": "python",
   "name": "conda-env-results_env-py"
  },
  "language_info": {
   "codemirror_mode": {
    "name": "ipython",
    "version": 3
   },
   "file_extension": ".py",
   "mimetype": "text/x-python",
   "name": "python",
   "nbconvert_exporter": "python",
   "pygments_lexer": "ipython3",
   "version": "3.10.9"
  }
 },
 "nbformat": 4,
 "nbformat_minor": 5
}
